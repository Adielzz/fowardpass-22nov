{
 "cells": [
  {
   "cell_type": "code",
   "execution_count": 3,
   "id": "c190be52-6134-417e-a134-b5e12f3f2161",
   "metadata": {},
   "outputs": [],
   "source": [
    "import numpy as np\n",
    "\n",
    "# Definisi fungsi sigmoid\n",
    "def sigmoid(x):\n",
    "    return 1 / (1 + np.exp(-x))\n",
    "\n",
    "# Definisi data input\n",
    "input_data = np.array([2, 3])\n",
    "\n",
    "# Definisi bobot\n",
    "weights = {\n",
    "    'node 0': np.array([1, 1]),\n",
    "    'node 1': np.array([-1, 1]),\n",
    "    'output': np.array([2, -1])\n",
    "}\n",
    "\n",
    "# Perhitungan nilai pada node\n",
    "node_0_value = (input_data * weights['node 0']).sum()\n",
    "node_1_value = (input_data * weights['node 1']).sum()\n"
   ]
  },
  {
   "cell_type": "code",
   "execution_count": 5,
   "id": "c797f49c-d508-4c66-9d3c-fc0085d4f4e6",
   "metadata": {},
   "outputs": [
    {
     "name": "stdout",
     "output_type": "stream",
     "text": [
      "hidden layar sebelum aktivasi: [5 1]\n",
      "hidden layar setelah aktivasi: [0.99330715 0.73105858]\n"
     ]
    }
   ],
   "source": [
    "# Nilai layer tersembunyi sebelum aktivasi\n",
    "hidden_layar_values = np.array([node_0_value, node_1_value])\n",
    "print('hidden layar sebelum aktivasi:', hidden_layar_values)\n",
    "\n",
    "# Aktivasi nilai menggunakan sigmoid\n",
    "node_0_value = sigmoid(node_0_value)\n",
    "node_1_value = sigmoid(node_1_value)\n",
    "\n",
    "# Nilai layer tersembunyi setelah aktivasi\n",
    "hidden_layar_values = np.array([node_0_value, node_1_value])\n",
    "print('hidden layar setelah aktivasi:', hidden_layar_values)"
   ]
  },
  {
   "cell_type": "code",
   "execution_count": 7,
   "id": "026942e8-ac1a-4e80-a5dc-01b446132a6e",
   "metadata": {},
   "outputs": [
    {
     "name": "stdout",
     "output_type": "stream",
     "text": [
      "output sebelum aktivasi: 1.2555557195214258\n",
      "output setelah aktivasi: 0.7782601010034182\n"
     ]
    }
   ],
   "source": [
    "# Menghitung output sebelum aktivasi\n",
    "output = (hidden_layar_values * weights['output']).sum()\n",
    "\n",
    "# Nilai output sebelum aktivasi\n",
    "print('output sebelum aktivasi:', output)\n",
    "\n",
    "# Nilai output setelah aktivasi\n",
    "output = sigmoid(output)\n",
    "print('output setelah aktivasi:', output)\n"
   ]
  },
  {
   "cell_type": "code",
   "execution_count": null,
   "id": "a419084b-1eb2-4a3b-8a35-e053bafd86c7",
   "metadata": {},
   "outputs": [],
   "source": []
  }
 ],
 "metadata": {
  "kernelspec": {
   "display_name": "Python 3 (ipykernel)",
   "language": "python",
   "name": "python3"
  },
  "language_info": {
   "codemirror_mode": {
    "name": "ipython",
    "version": 3
   },
   "file_extension": ".py",
   "mimetype": "text/x-python",
   "name": "python",
   "nbconvert_exporter": "python",
   "pygments_lexer": "ipython3",
   "version": "3.11.0"
  }
 },
 "nbformat": 4,
 "nbformat_minor": 5
}
